{
 "cells": [
  {
   "cell_type": "code",
   "execution_count": 4,
   "id": "549ff4cf-7f32-4e4f-b6ca-7078162f4bff",
   "metadata": {},
   "outputs": [
    {
     "name": "stdout",
     "output_type": "stream",
     "text": [
      "Negative values in CPU power files have been fixed.\n"
     ]
    }
   ],
   "source": [
    "import numpy as np\n",
    "import os\n",
    "import pandas as pd\n",
    "\n",
    "# Function to correct negative values by replacing them with the average of previous and next values\n",
    "def fix_negative_values(series):\n",
    "    series = series.copy()\n",
    "    for i in range(1, len(series) - 1):  # Skip first and last values to avoid index errors\n",
    "        if series[i] < 0:\n",
    "            series[i] = (series[i - 1] + series[i + 1]) / 2\n",
    "    return series\n",
    "\n",
    "# Base directory where application folders are stored\n",
    "base_dir = \"./\"\n",
    "\n",
    "# Process each application folder\n",
    "for app in os.listdir(base_dir):\n",
    "    app_path = os.path.join(base_dir, app)\n",
    "    if not os.path.isdir(app_path):\n",
    "        continue  # Skip if not a directory\n",
    "\n",
    "    # Process each file in the application directory\n",
    "    for file in os.listdir(app_path):\n",
    "        if file.endswith(\"cpu_power.csv\"):\n",
    "            file_path = os.path.join(app_path, file)\n",
    "            cpu_data = pd.read_csv(file_path)\n",
    "\n",
    "            # Fix negative values in \"Package Power (W)\" and \"DRAM Power (W)\"\n",
    "            if \"Package Power (W)\" in cpu_data.columns and \"DRAM Power (W)\" in cpu_data.columns:\n",
    "                cpu_data[\"Package Power (W)\"] = fix_negative_values(cpu_data[\"Package Power (W)\"])\n",
    "                cpu_data[\"DRAM Power (W)\"] = fix_negative_values(cpu_data[\"DRAM Power (W)\"])\n",
    "\n",
    "                # Save the corrected file\n",
    "                cpu_data.to_csv(file_path, index=False)\n",
    "\n",
    "# Confirm completion\n",
    "print(\"Negative values in CPU power files have been fixed.\")"
   ]
  },
  {
   "cell_type": "code",
   "execution_count": null,
   "id": "9c9a5d66-d54e-4e27-95c5-3570fc3847c8",
   "metadata": {},
   "outputs": [],
   "source": []
  }
 ],
 "metadata": {
  "kernelspec": {
   "display_name": "Python 3 (ipykernel)",
   "language": "python",
   "name": "python3"
  },
  "language_info": {
   "codemirror_mode": {
    "name": "ipython",
    "version": 3
   },
   "file_extension": ".py",
   "mimetype": "text/x-python",
   "name": "python",
   "nbconvert_exporter": "python",
   "pygments_lexer": "ipython3",
   "version": "3.10.12"
  }
 },
 "nbformat": 4,
 "nbformat_minor": 5
}
