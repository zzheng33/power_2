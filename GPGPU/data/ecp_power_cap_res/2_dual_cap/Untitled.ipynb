{
 "cells": [
  {
   "cell_type": "code",
   "execution_count": 2,
   "id": "549ff4cf-7f32-4e4f-b6ca-7078162f4bff",
   "metadata": {},
   "outputs": [],
   "source": [
    "import os\n",
    "import glob\n",
    "\n",
    "# Define the directory containing the GROMACS files\n",
    "gromacs_dir = \"../gromacs/\"  # Change this to your actual GROMACS directory\n",
    "\n",
    "# Find all files matching the pattern\n",
    "file_pattern = os.path.join(gromacs_dir, \"*_*_cpu_power.csv\")\n",
    "files = glob.glob(file_pattern)\n",
    "\n",
    "# Iterate through files and check row count\n",
    "for file in files:\n",
    "    with open(file, 'r') as f:\n",
    "        row_count = sum(1 for _ in f)\n",
    "    \n",
    "    if row_count < 100:\n",
    "        filename = os.path.basename(file)\n",
    "        prefix = filename.replace(\"_cpu_power.csv\", \"\")\n",
    "        print(prefix)\n"
   ]
  },
  {
   "cell_type": "code",
   "execution_count": null,
   "id": "9c9a5d66-d54e-4e27-95c5-3570fc3847c8",
   "metadata": {},
   "outputs": [],
   "source": []
  }
 ],
 "metadata": {
  "kernelspec": {
   "display_name": "Python 3 (ipykernel)",
   "language": "python",
   "name": "python3"
  },
  "language_info": {
   "codemirror_mode": {
    "name": "ipython",
    "version": 3
   },
   "file_extension": ".py",
   "mimetype": "text/x-python",
   "name": "python",
   "nbconvert_exporter": "python",
   "pygments_lexer": "ipython3",
   "version": "3.10.12"
  }
 },
 "nbformat": 4,
 "nbformat_minor": 5
}
