{
 "cells": [
  {
   "cell_type": "code",
   "execution_count": 2,
   "id": "549ff4cf-7f32-4e4f-b6ca-7078162f4bff",
   "metadata": {},
   "outputs": [
    {
     "name": "stdout",
     "output_type": "stream",
     "text": [
      "200_210\n",
      "130_200\n",
      "140_170\n",
      "170_160\n",
      "180_210\n",
      "140_190\n",
      "190_190\n",
      "150_250\n",
      "160_230\n",
      "120_230\n",
      "170_220\n",
      "190_250\n",
      "140_240\n",
      "130_180\n",
      "150_160\n",
      "130_150\n",
      "150_150\n",
      "190_240\n",
      "180_170\n",
      "140_160\n",
      "150_230\n",
      "120_180\n",
      "180_150\n",
      "170_190\n",
      "180_180\n",
      "140_210\n",
      "180_230\n",
      "190_220\n",
      "200_220\n",
      "140_200\n",
      "120_240\n",
      "160_200\n",
      "170_240\n",
      "150_190\n",
      "150_210\n",
      "190_230\n",
      "160_160\n",
      "140_220\n",
      "130_190\n",
      "130_240\n",
      "180_160\n",
      "120_160\n",
      "130_210\n",
      "170_170\n",
      "170_180\n",
      "150_200\n",
      "140_230\n",
      "190_200\n",
      "130_250\n"
     ]
    }
   ],
   "source": [
    "import os\n",
    "import glob\n",
    "\n",
    "# Define the directory containing the GROMACS files\n",
    "gromacs_dir = \"./gromacs/\"  # Change this to your actual GROMACS directory\n",
    "\n",
    "# Find all files matching the pattern\n",
    "file_pattern = os.path.join(gromacs_dir, \"*_*_cpu_power.csv\")\n",
    "files = glob.glob(file_pattern)\n",
    "\n",
    "# Iterate through files and check row count\n",
    "for file in files:\n",
    "    with open(file, 'r') as f:\n",
    "        row_count = sum(1 for _ in f)\n",
    "    \n",
    "    if row_count < 100:\n",
    "        filename = os.path.basename(file)\n",
    "        prefix = filename.replace(\"_cpu_power.csv\", \"\")\n",
    "        print(prefix)\n"
   ]
  },
  {
   "cell_type": "code",
   "execution_count": null,
   "id": "9c9a5d66-d54e-4e27-95c5-3570fc3847c8",
   "metadata": {},
   "outputs": [],
   "source": []
  }
 ],
 "metadata": {
  "kernelspec": {
   "display_name": "Python 3 (ipykernel)",
   "language": "python",
   "name": "python3"
  },
  "language_info": {
   "codemirror_mode": {
    "name": "ipython",
    "version": 3
   },
   "file_extension": ".py",
   "mimetype": "text/x-python",
   "name": "python",
   "nbconvert_exporter": "python",
   "pygments_lexer": "ipython3",
   "version": "3.10.12"
  }
 },
 "nbformat": 4,
 "nbformat_minor": 5
}
