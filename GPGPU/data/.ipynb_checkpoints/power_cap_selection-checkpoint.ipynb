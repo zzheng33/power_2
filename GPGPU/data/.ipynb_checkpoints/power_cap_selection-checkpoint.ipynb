{
 "cells": [
  {
   "cell_type": "code",
   "execution_count": 19,
   "id": "d554e0a1-dcd9-4802-a68c-995dbcc9d3ac",
   "metadata": {},
   "outputs": [
    {
     "name": "stdout",
     "output_type": "stream",
     "text": [
      "hello\n"
     ]
    },
    {
     "ename": "FileNotFoundError",
     "evalue": "[Errno 2] No such file or directory: './ecp_power_cap_res/2_dual_cap/bert_large/120_210_cpu_power.csv'",
     "output_type": "error",
     "traceback": [
      "\u001b[0;31m---------------------------------------------------------------------------\u001b[0m",
      "\u001b[0;31mFileNotFoundError\u001b[0m                         Traceback (most recent call last)",
      "Cell \u001b[0;32mIn[19], line 57\u001b[0m\n\u001b[1;32m     54\u001b[0m \u001b[38;5;28;01mif\u001b[39;00m \u001b[38;5;129;01mnot\u001b[39;00m os\u001b[38;5;241m.\u001b[39mpath\u001b[38;5;241m.\u001b[39mexists(cpu_power_file) \u001b[38;5;129;01mor\u001b[39;00m \u001b[38;5;129;01mnot\u001b[39;00m os\u001b[38;5;241m.\u001b[39mpath\u001b[38;5;241m.\u001b[39mexists(gpu_power_file):\n\u001b[1;32m     55\u001b[0m     \u001b[38;5;28mprint\u001b[39m(\u001b[38;5;124m\"\u001b[39m\u001b[38;5;124mhello\u001b[39m\u001b[38;5;124m\"\u001b[39m)\n\u001b[0;32m---> 57\u001b[0m cpu_data \u001b[38;5;241m=\u001b[39m \u001b[43mpd\u001b[49m\u001b[38;5;241;43m.\u001b[39;49m\u001b[43mread_csv\u001b[49m\u001b[43m(\u001b[49m\u001b[43mcpu_power_file\u001b[49m\u001b[43m)\u001b[49m\n\u001b[1;32m     58\u001b[0m gpu_data \u001b[38;5;241m=\u001b[39m pd\u001b[38;5;241m.\u001b[39mread_csv(gpu_power_file)\n\u001b[1;32m     60\u001b[0m \u001b[38;5;66;03m# Compute CPU energy consumption\u001b[39;00m\n",
      "File \u001b[0;32m/usr/local/lib/python3.10/dist-packages/pandas/io/parsers/readers.py:1026\u001b[0m, in \u001b[0;36mread_csv\u001b[0;34m(filepath_or_buffer, sep, delimiter, header, names, index_col, usecols, dtype, engine, converters, true_values, false_values, skipinitialspace, skiprows, skipfooter, nrows, na_values, keep_default_na, na_filter, verbose, skip_blank_lines, parse_dates, infer_datetime_format, keep_date_col, date_parser, date_format, dayfirst, cache_dates, iterator, chunksize, compression, thousands, decimal, lineterminator, quotechar, quoting, doublequote, escapechar, comment, encoding, encoding_errors, dialect, on_bad_lines, delim_whitespace, low_memory, memory_map, float_precision, storage_options, dtype_backend)\u001b[0m\n\u001b[1;32m   1013\u001b[0m kwds_defaults \u001b[38;5;241m=\u001b[39m _refine_defaults_read(\n\u001b[1;32m   1014\u001b[0m     dialect,\n\u001b[1;32m   1015\u001b[0m     delimiter,\n\u001b[0;32m   (...)\u001b[0m\n\u001b[1;32m   1022\u001b[0m     dtype_backend\u001b[38;5;241m=\u001b[39mdtype_backend,\n\u001b[1;32m   1023\u001b[0m )\n\u001b[1;32m   1024\u001b[0m kwds\u001b[38;5;241m.\u001b[39mupdate(kwds_defaults)\n\u001b[0;32m-> 1026\u001b[0m \u001b[38;5;28;01mreturn\u001b[39;00m \u001b[43m_read\u001b[49m\u001b[43m(\u001b[49m\u001b[43mfilepath_or_buffer\u001b[49m\u001b[43m,\u001b[49m\u001b[43m \u001b[49m\u001b[43mkwds\u001b[49m\u001b[43m)\u001b[49m\n",
      "File \u001b[0;32m/usr/local/lib/python3.10/dist-packages/pandas/io/parsers/readers.py:620\u001b[0m, in \u001b[0;36m_read\u001b[0;34m(filepath_or_buffer, kwds)\u001b[0m\n\u001b[1;32m    617\u001b[0m _validate_names(kwds\u001b[38;5;241m.\u001b[39mget(\u001b[38;5;124m\"\u001b[39m\u001b[38;5;124mnames\u001b[39m\u001b[38;5;124m\"\u001b[39m, \u001b[38;5;28;01mNone\u001b[39;00m))\n\u001b[1;32m    619\u001b[0m \u001b[38;5;66;03m# Create the parser.\u001b[39;00m\n\u001b[0;32m--> 620\u001b[0m parser \u001b[38;5;241m=\u001b[39m \u001b[43mTextFileReader\u001b[49m\u001b[43m(\u001b[49m\u001b[43mfilepath_or_buffer\u001b[49m\u001b[43m,\u001b[49m\u001b[43m \u001b[49m\u001b[38;5;241;43m*\u001b[39;49m\u001b[38;5;241;43m*\u001b[39;49m\u001b[43mkwds\u001b[49m\u001b[43m)\u001b[49m\n\u001b[1;32m    622\u001b[0m \u001b[38;5;28;01mif\u001b[39;00m chunksize \u001b[38;5;129;01mor\u001b[39;00m iterator:\n\u001b[1;32m    623\u001b[0m     \u001b[38;5;28;01mreturn\u001b[39;00m parser\n",
      "File \u001b[0;32m/usr/local/lib/python3.10/dist-packages/pandas/io/parsers/readers.py:1620\u001b[0m, in \u001b[0;36mTextFileReader.__init__\u001b[0;34m(self, f, engine, **kwds)\u001b[0m\n\u001b[1;32m   1617\u001b[0m     \u001b[38;5;28mself\u001b[39m\u001b[38;5;241m.\u001b[39moptions[\u001b[38;5;124m\"\u001b[39m\u001b[38;5;124mhas_index_names\u001b[39m\u001b[38;5;124m\"\u001b[39m] \u001b[38;5;241m=\u001b[39m kwds[\u001b[38;5;124m\"\u001b[39m\u001b[38;5;124mhas_index_names\u001b[39m\u001b[38;5;124m\"\u001b[39m]\n\u001b[1;32m   1619\u001b[0m \u001b[38;5;28mself\u001b[39m\u001b[38;5;241m.\u001b[39mhandles: IOHandles \u001b[38;5;241m|\u001b[39m \u001b[38;5;28;01mNone\u001b[39;00m \u001b[38;5;241m=\u001b[39m \u001b[38;5;28;01mNone\u001b[39;00m\n\u001b[0;32m-> 1620\u001b[0m \u001b[38;5;28mself\u001b[39m\u001b[38;5;241m.\u001b[39m_engine \u001b[38;5;241m=\u001b[39m \u001b[38;5;28;43mself\u001b[39;49m\u001b[38;5;241;43m.\u001b[39;49m\u001b[43m_make_engine\u001b[49m\u001b[43m(\u001b[49m\u001b[43mf\u001b[49m\u001b[43m,\u001b[49m\u001b[43m \u001b[49m\u001b[38;5;28;43mself\u001b[39;49m\u001b[38;5;241;43m.\u001b[39;49m\u001b[43mengine\u001b[49m\u001b[43m)\u001b[49m\n",
      "File \u001b[0;32m/usr/local/lib/python3.10/dist-packages/pandas/io/parsers/readers.py:1880\u001b[0m, in \u001b[0;36mTextFileReader._make_engine\u001b[0;34m(self, f, engine)\u001b[0m\n\u001b[1;32m   1878\u001b[0m     \u001b[38;5;28;01mif\u001b[39;00m \u001b[38;5;124m\"\u001b[39m\u001b[38;5;124mb\u001b[39m\u001b[38;5;124m\"\u001b[39m \u001b[38;5;129;01mnot\u001b[39;00m \u001b[38;5;129;01min\u001b[39;00m mode:\n\u001b[1;32m   1879\u001b[0m         mode \u001b[38;5;241m+\u001b[39m\u001b[38;5;241m=\u001b[39m \u001b[38;5;124m\"\u001b[39m\u001b[38;5;124mb\u001b[39m\u001b[38;5;124m\"\u001b[39m\n\u001b[0;32m-> 1880\u001b[0m \u001b[38;5;28mself\u001b[39m\u001b[38;5;241m.\u001b[39mhandles \u001b[38;5;241m=\u001b[39m \u001b[43mget_handle\u001b[49m\u001b[43m(\u001b[49m\n\u001b[1;32m   1881\u001b[0m \u001b[43m    \u001b[49m\u001b[43mf\u001b[49m\u001b[43m,\u001b[49m\n\u001b[1;32m   1882\u001b[0m \u001b[43m    \u001b[49m\u001b[43mmode\u001b[49m\u001b[43m,\u001b[49m\n\u001b[1;32m   1883\u001b[0m \u001b[43m    \u001b[49m\u001b[43mencoding\u001b[49m\u001b[38;5;241;43m=\u001b[39;49m\u001b[38;5;28;43mself\u001b[39;49m\u001b[38;5;241;43m.\u001b[39;49m\u001b[43moptions\u001b[49m\u001b[38;5;241;43m.\u001b[39;49m\u001b[43mget\u001b[49m\u001b[43m(\u001b[49m\u001b[38;5;124;43m\"\u001b[39;49m\u001b[38;5;124;43mencoding\u001b[39;49m\u001b[38;5;124;43m\"\u001b[39;49m\u001b[43m,\u001b[49m\u001b[43m \u001b[49m\u001b[38;5;28;43;01mNone\u001b[39;49;00m\u001b[43m)\u001b[49m\u001b[43m,\u001b[49m\n\u001b[1;32m   1884\u001b[0m \u001b[43m    \u001b[49m\u001b[43mcompression\u001b[49m\u001b[38;5;241;43m=\u001b[39;49m\u001b[38;5;28;43mself\u001b[39;49m\u001b[38;5;241;43m.\u001b[39;49m\u001b[43moptions\u001b[49m\u001b[38;5;241;43m.\u001b[39;49m\u001b[43mget\u001b[49m\u001b[43m(\u001b[49m\u001b[38;5;124;43m\"\u001b[39;49m\u001b[38;5;124;43mcompression\u001b[39;49m\u001b[38;5;124;43m\"\u001b[39;49m\u001b[43m,\u001b[49m\u001b[43m \u001b[49m\u001b[38;5;28;43;01mNone\u001b[39;49;00m\u001b[43m)\u001b[49m\u001b[43m,\u001b[49m\n\u001b[1;32m   1885\u001b[0m \u001b[43m    \u001b[49m\u001b[43mmemory_map\u001b[49m\u001b[38;5;241;43m=\u001b[39;49m\u001b[38;5;28;43mself\u001b[39;49m\u001b[38;5;241;43m.\u001b[39;49m\u001b[43moptions\u001b[49m\u001b[38;5;241;43m.\u001b[39;49m\u001b[43mget\u001b[49m\u001b[43m(\u001b[49m\u001b[38;5;124;43m\"\u001b[39;49m\u001b[38;5;124;43mmemory_map\u001b[39;49m\u001b[38;5;124;43m\"\u001b[39;49m\u001b[43m,\u001b[49m\u001b[43m \u001b[49m\u001b[38;5;28;43;01mFalse\u001b[39;49;00m\u001b[43m)\u001b[49m\u001b[43m,\u001b[49m\n\u001b[1;32m   1886\u001b[0m \u001b[43m    \u001b[49m\u001b[43mis_text\u001b[49m\u001b[38;5;241;43m=\u001b[39;49m\u001b[43mis_text\u001b[49m\u001b[43m,\u001b[49m\n\u001b[1;32m   1887\u001b[0m \u001b[43m    \u001b[49m\u001b[43merrors\u001b[49m\u001b[38;5;241;43m=\u001b[39;49m\u001b[38;5;28;43mself\u001b[39;49m\u001b[38;5;241;43m.\u001b[39;49m\u001b[43moptions\u001b[49m\u001b[38;5;241;43m.\u001b[39;49m\u001b[43mget\u001b[49m\u001b[43m(\u001b[49m\u001b[38;5;124;43m\"\u001b[39;49m\u001b[38;5;124;43mencoding_errors\u001b[39;49m\u001b[38;5;124;43m\"\u001b[39;49m\u001b[43m,\u001b[49m\u001b[43m \u001b[49m\u001b[38;5;124;43m\"\u001b[39;49m\u001b[38;5;124;43mstrict\u001b[39;49m\u001b[38;5;124;43m\"\u001b[39;49m\u001b[43m)\u001b[49m\u001b[43m,\u001b[49m\n\u001b[1;32m   1888\u001b[0m \u001b[43m    \u001b[49m\u001b[43mstorage_options\u001b[49m\u001b[38;5;241;43m=\u001b[39;49m\u001b[38;5;28;43mself\u001b[39;49m\u001b[38;5;241;43m.\u001b[39;49m\u001b[43moptions\u001b[49m\u001b[38;5;241;43m.\u001b[39;49m\u001b[43mget\u001b[49m\u001b[43m(\u001b[49m\u001b[38;5;124;43m\"\u001b[39;49m\u001b[38;5;124;43mstorage_options\u001b[39;49m\u001b[38;5;124;43m\"\u001b[39;49m\u001b[43m,\u001b[49m\u001b[43m \u001b[49m\u001b[38;5;28;43;01mNone\u001b[39;49;00m\u001b[43m)\u001b[49m\u001b[43m,\u001b[49m\n\u001b[1;32m   1889\u001b[0m \u001b[43m\u001b[49m\u001b[43m)\u001b[49m\n\u001b[1;32m   1890\u001b[0m \u001b[38;5;28;01massert\u001b[39;00m \u001b[38;5;28mself\u001b[39m\u001b[38;5;241m.\u001b[39mhandles \u001b[38;5;129;01mis\u001b[39;00m \u001b[38;5;129;01mnot\u001b[39;00m \u001b[38;5;28;01mNone\u001b[39;00m\n\u001b[1;32m   1891\u001b[0m f \u001b[38;5;241m=\u001b[39m \u001b[38;5;28mself\u001b[39m\u001b[38;5;241m.\u001b[39mhandles\u001b[38;5;241m.\u001b[39mhandle\n",
      "File \u001b[0;32m/usr/local/lib/python3.10/dist-packages/pandas/io/common.py:873\u001b[0m, in \u001b[0;36mget_handle\u001b[0;34m(path_or_buf, mode, encoding, compression, memory_map, is_text, errors, storage_options)\u001b[0m\n\u001b[1;32m    868\u001b[0m \u001b[38;5;28;01melif\u001b[39;00m \u001b[38;5;28misinstance\u001b[39m(handle, \u001b[38;5;28mstr\u001b[39m):\n\u001b[1;32m    869\u001b[0m     \u001b[38;5;66;03m# Check whether the filename is to be opened in binary mode.\u001b[39;00m\n\u001b[1;32m    870\u001b[0m     \u001b[38;5;66;03m# Binary mode does not support 'encoding' and 'newline'.\u001b[39;00m\n\u001b[1;32m    871\u001b[0m     \u001b[38;5;28;01mif\u001b[39;00m ioargs\u001b[38;5;241m.\u001b[39mencoding \u001b[38;5;129;01mand\u001b[39;00m \u001b[38;5;124m\"\u001b[39m\u001b[38;5;124mb\u001b[39m\u001b[38;5;124m\"\u001b[39m \u001b[38;5;129;01mnot\u001b[39;00m \u001b[38;5;129;01min\u001b[39;00m ioargs\u001b[38;5;241m.\u001b[39mmode:\n\u001b[1;32m    872\u001b[0m         \u001b[38;5;66;03m# Encoding\u001b[39;00m\n\u001b[0;32m--> 873\u001b[0m         handle \u001b[38;5;241m=\u001b[39m \u001b[38;5;28;43mopen\u001b[39;49m\u001b[43m(\u001b[49m\n\u001b[1;32m    874\u001b[0m \u001b[43m            \u001b[49m\u001b[43mhandle\u001b[49m\u001b[43m,\u001b[49m\n\u001b[1;32m    875\u001b[0m \u001b[43m            \u001b[49m\u001b[43mioargs\u001b[49m\u001b[38;5;241;43m.\u001b[39;49m\u001b[43mmode\u001b[49m\u001b[43m,\u001b[49m\n\u001b[1;32m    876\u001b[0m \u001b[43m            \u001b[49m\u001b[43mencoding\u001b[49m\u001b[38;5;241;43m=\u001b[39;49m\u001b[43mioargs\u001b[49m\u001b[38;5;241;43m.\u001b[39;49m\u001b[43mencoding\u001b[49m\u001b[43m,\u001b[49m\n\u001b[1;32m    877\u001b[0m \u001b[43m            \u001b[49m\u001b[43merrors\u001b[49m\u001b[38;5;241;43m=\u001b[39;49m\u001b[43merrors\u001b[49m\u001b[43m,\u001b[49m\n\u001b[1;32m    878\u001b[0m \u001b[43m            \u001b[49m\u001b[43mnewline\u001b[49m\u001b[38;5;241;43m=\u001b[39;49m\u001b[38;5;124;43m\"\u001b[39;49m\u001b[38;5;124;43m\"\u001b[39;49m\u001b[43m,\u001b[49m\n\u001b[1;32m    879\u001b[0m \u001b[43m        \u001b[49m\u001b[43m)\u001b[49m\n\u001b[1;32m    880\u001b[0m     \u001b[38;5;28;01melse\u001b[39;00m:\n\u001b[1;32m    881\u001b[0m         \u001b[38;5;66;03m# Binary mode\u001b[39;00m\n\u001b[1;32m    882\u001b[0m         handle \u001b[38;5;241m=\u001b[39m \u001b[38;5;28mopen\u001b[39m(handle, ioargs\u001b[38;5;241m.\u001b[39mmode)\n",
      "\u001b[0;31mFileNotFoundError\u001b[0m: [Errno 2] No such file or directory: './ecp_power_cap_res/2_dual_cap/bert_large/120_210_cpu_power.csv'"
     ]
    }
   ],
   "source": [
    "import ast\n",
    "import pandas as pd\n",
    "import os\n",
    "from itertools import product\n",
    "\n",
    "performance_matrix_path = \"./prediction_res/performance_matrix.csv\"\n",
    "power_cap_res_path = \"./ecp_power_cap_res/2_dual_cap/\"\n",
    "\n",
    "# Applications of interest\n",
    "apps = ['miniGAN', 'sw4lite', 'bert_large', 'UNet', 'Resnet50', 'lammps', 'gromacs', 'NAMD']\n",
    "apps = ['bert_large']\n",
    "\n",
    "# Load performance matrix\n",
    "performance_matrix = pd.read_csv(performance_matrix_path, index_col=0)\n",
    "\n",
    "# Dictionary to store results\n",
    "edp_results = {}\n",
    "\n",
    "cpu_caps = [200, 190, 180, 170, 160, 150, 140, 130, 120]\n",
    "gpu_caps = [250, 240, 230, 220, 210, 200, 190, 180, 170, 160, 150]\n",
    "power_cap_pairs = list(product(cpu_caps, gpu_caps))\n",
    "\n",
    "for app in apps:\n",
    "    app_path = os.path.join(power_cap_res_path, app)\n",
    "    \n",
    "\n",
    "    min_edp = float('inf')\n",
    "    best_power_pair = None\n",
    "\n",
    "    for power_pair in power_cap_pairs:\n",
    "        cpu_power, gpu_power = power_pair  # Unpack tuple\n",
    "\n",
    "        # # Ensure the power pair exists in the performance matrix\n",
    "        # if power_pair not in performance_matrix.index: \n",
    "        #     print(power_pair)\n",
    "            \n",
    "        # if app not in performance_matrix.columns:\n",
    "        #     print(app)\n",
    "            \n",
    "\n",
    "        # Get normalized performance\n",
    "        power_pair = f\"({cpu_power}, {gpu_power})\"\n",
    "\n",
    "        norm_performance = performance_matrix.loc[power_pair, app]\n",
    "        # print(norm_performance)\n",
    "\n",
    "        # Compute normalized execution time\n",
    "        norm_exec_time = 1 / norm_performance\n",
    "\n",
    "        # Load CPU and GPU power files\n",
    "        cpu_power_file = os.path.join(app_path, f\"{cpu_power}_{gpu_power}_cpu_power.csv\")\n",
    "        gpu_power_file = os.path.join(app_path, f\"{cpu_power}_{gpu_power}_gpu_metrics.csv\")\n",
    "\n",
    "        if not os.path.exists(cpu_power_file) or not os.path.exists(gpu_power_file):\n",
    "            print(\"hello\")\n",
    "\n",
    "        cpu_data = pd.read_csv(cpu_power_file)\n",
    "        gpu_data = pd.read_csv(gpu_power_file)\n",
    "\n",
    "        # Compute CPU energy consumption\n",
    "        cpu_energy = (cpu_data[\"Package Power (W)\"].mean() + cpu_data[\"DRAM Power (W)\"].mean()) * norm_exec_time\n",
    "\n",
    "        # Compute GPU energy consumption\n",
    "        gpu_energy = gpu_data[\"Power (W)\"].mean() * norm_exec_time\n",
    "\n",
    "        # Total energy consumption\n",
    "        total_energy = cpu_energy + gpu_energy\n",
    "\n",
    "        # Compute EDP\n",
    "        edp = total_energy * norm_exec_time\n",
    "\n",
    "        # Update best power pair\n",
    "        if edp < min_edp:\n",
    "            min_edp = edp\n",
    "            best_power_pair = (cpu_power, gpu_power)\n",
    "\n",
    "    # Step 3: Compute EDP for actual performance using the selected power cap pair and baseline (200_250)\n",
    "    if best_power_pair:\n",
    "        cpu_power, gpu_power = best_power_pair\n",
    "\n",
    "        # Baseline power cap (200_250)\n",
    "        baseline_cpu_file = os.path.join(app_path, \"200_250_cpu_power.csv\")\n",
    "        baseline_gpu_file = os.path.join(app_path, \"200_250_gpu_metric.csv\")\n",
    "\n",
    "        if os.path.exists(baseline_cpu_file) and os.path.exists(baseline_gpu_file):\n",
    "            baseline_cpu_data = pd.read_csv(baseline_cpu_file)\n",
    "            baseline_gpu_data = pd.read_csv(baseline_gpu_file)\n",
    "\n",
    "            # Execution time from the last row of Time (s)\n",
    "            baseline_exec_time = baseline_cpu_data[\"Time (s)\"].iloc[-1]\n",
    "\n",
    "            # Compute CPU energy for baseline\n",
    "            baseline_cpu_energy = (baseline_cpu_data[\"Package Power (W)\"].mean() + \n",
    "                                   baseline_cpu_data[\"DRAM Power (W)\"].mean()) * baseline_exec_time\n",
    "\n",
    "            # Compute GPU energy for baseline\n",
    "            baseline_gpu_energy = baseline_gpu_data[\"Power (W)\"].mean() * baseline_exec_time\n",
    "\n",
    "            # Total energy for baseline\n",
    "            baseline_total_energy = baseline_cpu_energy + baseline_gpu_energy\n",
    "\n",
    "            # Compute baseline EDP\n",
    "            baseline_edp = baseline_total_energy * baseline_exec_time\n",
    "\n",
    "            # Compute EDP for selected power cap pair\n",
    "            selected_cpu_file = os.path.join(app_path, f\"{cpu_power}_{gpu_power}_cpu_power.csv\")\n",
    "            selected_gpu_file = os.path.join(app_path, f\"{cpu_power}_{gpu_power}_gpu_metric.csv\")\n",
    "\n",
    "            if os.path.exists(selected_cpu_file) and os.path.exists(selected_gpu_file):\n",
    "                selected_cpu_data = pd.read_csv(selected_cpu_file)\n",
    "                selected_gpu_data = pd.read_csv(selected_gpu_file)\n",
    "\n",
    "                # Execution time from the last row of Time (s)\n",
    "                selected_exec_time = selected_cpu_data[\"Time (s)\"].iloc[-1]\n",
    "\n",
    "                # Compute CPU energy for selected power cap\n",
    "                selected_cpu_energy = (selected_cpu_data[\"Package Power (W)\"].mean() + \n",
    "                                       selected_cpu_data[\"DRAM Power (W)\"].mean()) * selected_exec_time\n",
    "\n",
    "                # Compute GPU energy for selected power cap\n",
    "                selected_gpu_energy = selected_gpu_data[\"Power (W)\"].mean() * selected_exec_time\n",
    "\n",
    "                # Total energy for selected power cap\n",
    "                selected_total_energy = selected_cpu_energy + selected_gpu_energy\n",
    "\n",
    "                # Compute EDP for selected power cap\n",
    "                selected_edp = selected_total_energy * selected_exec_time\n",
    "\n",
    "                # Store results\n",
    "                edp_results[app] = {\n",
    "                    \"Best Power Pair\": f\"{cpu_power}_{gpu_power}\",\n",
    "                    \"Baseline EDP\": baseline_edp,\n",
    "                    \"Selected EDP\": selected_edp\n",
    "                }"
   ]
  },
  {
   "cell_type": "code",
   "execution_count": 14,
   "id": "8c7d6e8d-6197-4428-84d2-ca906162f4e6",
   "metadata": {},
   "outputs": [
    {
     "data": {
      "text/plain": [
       "{}"
      ]
     },
     "execution_count": 14,
     "metadata": {},
     "output_type": "execute_result"
    }
   ],
   "source": [
    "edp_results"
   ]
  },
  {
   "cell_type": "code",
   "execution_count": 5,
   "id": "ad0e7ec5-aa94-449b-8cf7-a06127852996",
   "metadata": {},
   "outputs": [],
   "source": [
    "# Print the EDP results\n",
    "for app, results in edp_results.items():\n",
    "    print(f\"Application: {app}\")\n",
    "    print(f\"Best Power Pair: {results['Best Power Pair']}\")\n",
    "    print(f\"Baseline EDP: {results['Baseline EDP']:.4f}\")\n",
    "    print(f\"Selected EDP: {results['Selected EDP']:.4f}\")\n",
    "    print(\"-\" * 40)\n"
   ]
  },
  {
   "cell_type": "code",
   "execution_count": 12,
   "id": "c70ad4b1-cfa5-4013-9f29-27cf021a02be",
   "metadata": {},
   "outputs": [
    {
     "data": {
      "text/plain": [
       "(pandas.core.indexes.base.Index,\n",
       " Index(['(120, 150)', '(120, 160)', '(120, 170)', '(120, 180)', '(120, 190)'], dtype='object'))"
      ]
     },
     "execution_count": 12,
     "metadata": {},
     "output_type": "execute_result"
    }
   ],
   "source": [
    "# Load performance matrix to check row indices type\n",
    "performance_matrix = pd.read_csv(\"./prediction_res/performance_matrix.csv\", index_col=0)\n",
    "\n",
    "# Get index type and sample values\n",
    "index_type = type(performance_matrix.index)\n",
    "index_sample = performance_matrix.index[:5]  # Get first 5 indices for reference\n",
    "\n",
    "index_type, index_sample\n"
   ]
  },
  {
   "cell_type": "code",
   "execution_count": null,
   "id": "d30918aa-0225-4f79-acce-edbf81571968",
   "metadata": {},
   "outputs": [],
   "source": []
  }
 ],
 "metadata": {
  "kernelspec": {
   "display_name": "Python 3 (ipykernel)",
   "language": "python",
   "name": "python3"
  },
  "language_info": {
   "codemirror_mode": {
    "name": "ipython",
    "version": 3
   },
   "file_extension": ".py",
   "mimetype": "text/x-python",
   "name": "python",
   "nbconvert_exporter": "python",
   "pygments_lexer": "ipython3",
   "version": "3.10.12"
  }
 },
 "nbformat": 4,
 "nbformat_minor": 5
}
