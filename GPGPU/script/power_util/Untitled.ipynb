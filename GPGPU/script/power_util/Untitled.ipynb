{
 "cells": [
  {
   "cell_type": "code",
   "execution_count": 17,
   "id": "94daba37-88ba-4ee1-9c8c-39395b7610fd",
   "metadata": {},
   "outputs": [],
   "source": [
    "gpu_caps = [250, 240, 230, 220,210,200,190, 180,170,160,150,140,130,120,110,100,90,80,70,60,50]\n",
    "\n",
    "def freq_low_range(power):\n",
    "    \"\"\"Calculate GPU frequency for power values in the range 225 MHz - 1175 MHz.\"\"\"\n",
    "    return int((power - 29.55) / 0.09)\n",
    "\n",
    "def freq_high_range(power):\n",
    "    \"\"\"Calculate GPU frequency for power values in the range 1200 MHz - 1415 MHz.\"\"\"\n",
    "    return int((power + 421.01) / 0.48)\n",
    "\n",
    "\n",
    "gpu_frequencies = [\n",
    "    freq_low_range(cap) if cap < 150 else freq_high_range(cap)\n",
    "    for cap in gpu_caps\n",
    "]"
   ]
  },
  {
   "cell_type": "code",
   "execution_count": null,
   "id": "91dbca00-23c7-45a4-a4b4-1eaba637874b",
   "metadata": {},
   "outputs": [],
   "source": []
  }
 ],
 "metadata": {
  "kernelspec": {
   "display_name": "Python 3 (ipykernel)",
   "language": "python",
   "name": "python3"
  },
  "language_info": {
   "codemirror_mode": {
    "name": "ipython",
    "version": 3
   },
   "file_extension": ".py",
   "mimetype": "text/x-python",
   "name": "python",
   "nbconvert_exporter": "python",
   "pygments_lexer": "ipython3",
   "version": "3.10.12"
  }
 },
 "nbformat": 4,
 "nbformat_minor": 5
}
